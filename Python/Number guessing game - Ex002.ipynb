{
 "cells": [
  {
   "cell_type": "code",
   "execution_count": 1,
   "id": "737236b0",
   "metadata": {
    "scrolled": true
   },
   "outputs": [
    {
     "name": "stdout",
     "output_type": "stream",
     "text": [
      "Enter Lower bound:- 10\n",
      "Enter Upper bound:- 25\n",
      "\n",
      "\tYou've only  4  chances to guess the integer!\n",
      "\n",
      "Guess a number:- 14\n",
      "You guessed too small!\n",
      "Guess a number:- 20\n",
      "You guessed too small!\n",
      "Guess a number:- 22\n",
      "You guessed too small!\n",
      "Guess a number:- 24\n",
      "Congratulations you did it in  4  try\n",
      "\n",
      "The number is 24\n",
      "\tBetter Luck Next time!\n"
     ]
    }
   ],
   "source": [
    "import random\n",
    "import math\n",
    "# Taking Inputs\n",
    "lower = int(input(\"Enter Lower bound:- \"))\n",
    "upper = int(input(\"Enter Upper bound:- \"))\n",
    "\n",
    "# generating random number between the lower and upper\n",
    "x = random.randint(lower, upper)\n",
    "print(\"\\n\\tYou've only \", \n",
    "\tround(math.log(upper - lower + 1, 2)),\n",
    "\t\" chances to guess the integer!\\n\")\n",
    "\n",
    "# Initializing the number of guesses.\n",
    "count = 0\n",
    "\n",
    "# for calculation of minimum number of guesses depends upon range\n",
    "while count < math.log(upper - lower + 1, 2):\n",
    "\tcount += 1\n",
    "\n",
    "\t# taking guessing number as input\n",
    "\tguess = int(input(\"Guess a number:- \"))\n",
    "\n",
    "\t# Condition testing\n",
    "\tif x == guess:\n",
    "\t\tprint(\"Congratulations you did it in \",\n",
    "\t\t\tcount, \" try\")\n",
    "\t\t# Once guessed, loop will break\n",
    "\t\tbreak\n",
    "\telif x > guess:\n",
    "\t\tprint(\"You guessed too small!\")\n",
    "\telif x < guess:\n",
    "\t\tprint(\"You Guessed too high!\")\n",
    "\n",
    "# If Guessing is more than required guesses, shows this output.\n",
    "if count >= math.log(upper - lower + 1, 2):\n",
    "\tprint(\"\\nThe number is %d\" % x)\n",
    "\tprint(\"\\tBetter Luck Next time!\")"
   ]
  }
 ],
 "metadata": {
  "kernelspec": {
   "display_name": "Python 3 (ipykernel)",
   "language": "python",
   "name": "python3"
  },
  "language_info": {
   "codemirror_mode": {
    "name": "ipython",
    "version": 3
   },
   "file_extension": ".py",
   "mimetype": "text/x-python",
   "name": "python",
   "nbconvert_exporter": "python",
   "pygments_lexer": "ipython3",
   "version": "3.11.5"
  }
 },
 "nbformat": 4,
 "nbformat_minor": 5
}
